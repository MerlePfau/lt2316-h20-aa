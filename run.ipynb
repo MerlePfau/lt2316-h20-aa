{
 "cells": [
  {
   "cell_type": "markdown",
   "metadata": {},
   "source": [
    "# Assignment 1"
   ]
  },
  {
   "cell_type": "markdown",
   "metadata": {},
   "source": [
    "## Loading data"
   ]
  },
  {
   "cell_type": "code",
   "execution_count": 1,
   "metadata": {
    "scrolled": false
   },
   "outputs": [],
   "source": [
    "from aa import DataLoader\n",
    "from aa import extract_features\n",
    "from aa import check_output\n",
    "import torch"
   ]
  },
  {
   "cell_type": "code",
   "execution_count": 2,
   "metadata": {},
   "outputs": [],
   "source": [
    "device=torch.device('cuda:0')"
   ]
  },
  {
   "cell_type": "code",
   "execution_count": 3,
   "metadata": {
    "scrolled": true
   },
   "outputs": [
    {
     "name": "stdout",
     "output_type": "stream",
     "text": [
      "processing data\n",
      "reading in data...\n",
      "data read\n",
      "                sentence_id                      token_id char_start_id  \\\n",
      "1      DDI-DrugBank.d644.s0                cholestyramine           142   \n",
      "2      DDI-DrugBank.d644.s2                      Rifampin            62   \n",
      "3      DDI-DrugBank.d644.s2                  barbiturates            71   \n",
      "4      DDI-DrugBank.d644.s2                     phenytoin            84   \n",
      "5      DDI-DrugBank.d644.s2                      Dilantin            95   \n",
      "...                     ...                           ...           ...   \n",
      "15438   DDI-MedLine.d113.s3                benzodiazepine           118   \n",
      "15439   DDI-MedLine.d113.s3                       ethanol           138   \n",
      "15440   DDI-MedLine.d113.s5                       alcohol           111   \n",
      "15441   DDI-MedLine.d113.s5  3-hydroxy-1,4-benzodiazepine           123   \n",
      "15442   DDI-MedLine.d113.s6                       ethanol            19   \n",
      "\n",
      "      char_end_id  split  \n",
      "1             155   test  \n",
      "2              69   test  \n",
      "3              82   test  \n",
      "4              92   test  \n",
      "5             102   test  \n",
      "...           ...    ...  \n",
      "15438         131  train  \n",
      "15439         144  train  \n",
      "15440         117  train  \n",
      "15441         150  train  \n",
      "15442          25  train  \n",
      "\n",
      "[15442 rows x 5 columns]\n",
      "                sentence_id ner_id char_start_id char_end_id\n",
      "1      DDI-DrugBank.d644.s0   drug           142         155\n",
      "2      DDI-DrugBank.d644.s2   drug            62          69\n",
      "3      DDI-DrugBank.d644.s2  group            71          82\n",
      "4      DDI-DrugBank.d644.s2   drug            84          92\n",
      "5      DDI-DrugBank.d644.s2  brand            95         102\n",
      "...                     ...    ...           ...         ...\n",
      "15438   DDI-MedLine.d113.s3  group           118         131\n",
      "15439   DDI-MedLine.d113.s3   drug           138         144\n",
      "15440   DDI-MedLine.d113.s5   drug           111         117\n",
      "15441   DDI-MedLine.d113.s5  group           123         150\n",
      "15442   DDI-MedLine.d113.s6   drug            19          25\n",
      "\n",
      "[15442 rows x 4 columns]\n",
      "creating word map...\n",
      "word map done\n",
      "creating ner map...\n",
      "ner map done\n",
      "creating validation set...\n",
      "validation set ready\n",
      "11103\n",
      "3700\n",
      "639\n",
      "data processed\n"
     ]
    }
   ],
   "source": [
    "dataset = DataLoader(data_dir=\"../DDICorpus/DDICorpus/\", device=device)"
   ]
  },
  {
   "cell_type": "code",
   "execution_count": 4,
   "metadata": {
    "scrolled": false
   },
   "outputs": [
    {
     "data": {
      "text/html": [
       "<div>\n",
       "<style scoped>\n",
       "    .dataframe tbody tr th:only-of-type {\n",
       "        vertical-align: middle;\n",
       "    }\n",
       "\n",
       "    .dataframe tbody tr th {\n",
       "        vertical-align: top;\n",
       "    }\n",
       "\n",
       "    .dataframe thead th {\n",
       "        text-align: right;\n",
       "    }\n",
       "</style>\n",
       "<table border=\"1\" class=\"dataframe\">\n",
       "  <thead>\n",
       "    <tr style=\"text-align: right;\">\n",
       "      <th></th>\n",
       "      <th>sentence_id</th>\n",
       "      <th>token_id</th>\n",
       "      <th>char_start_id</th>\n",
       "      <th>char_end_id</th>\n",
       "      <th>split</th>\n",
       "    </tr>\n",
       "  </thead>\n",
       "  <tbody>\n",
       "    <tr>\n",
       "      <th>0</th>\n",
       "      <td>DDI-DrugBank.d158.s17</td>\n",
       "      <td>423</td>\n",
       "      <td>121</td>\n",
       "      <td>131</td>\n",
       "      <td>train</td>\n",
       "    </tr>\n",
       "    <tr>\n",
       "      <th>1</th>\n",
       "      <td>DDI-DrugBank.d448.s5</td>\n",
       "      <td>940</td>\n",
       "      <td>52</td>\n",
       "      <td>66</td>\n",
       "      <td>val</td>\n",
       "    </tr>\n",
       "    <tr>\n",
       "      <th>2</th>\n",
       "      <td>DDI-DrugBank.d485.s22</td>\n",
       "      <td>3</td>\n",
       "      <td>97</td>\n",
       "      <td>105</td>\n",
       "      <td>train</td>\n",
       "    </tr>\n",
       "    <tr>\n",
       "      <th>3</th>\n",
       "      <td>DDI-DrugBank.d184.s0</td>\n",
       "      <td>2</td>\n",
       "      <td>525</td>\n",
       "      <td>536</td>\n",
       "      <td>val</td>\n",
       "    </tr>\n",
       "    <tr>\n",
       "      <th>4</th>\n",
       "      <td>DDI-DrugBank.d78.s8</td>\n",
       "      <td>64</td>\n",
       "      <td>79</td>\n",
       "      <td>90</td>\n",
       "      <td>train</td>\n",
       "    </tr>\n",
       "  </tbody>\n",
       "</table>\n",
       "</div>"
      ],
      "text/plain": [
       "             sentence_id token_id char_start_id char_end_id  split\n",
       "0  DDI-DrugBank.d158.s17      423           121         131  train\n",
       "1   DDI-DrugBank.d448.s5      940            52          66    val\n",
       "2  DDI-DrugBank.d485.s22        3            97         105  train\n",
       "3   DDI-DrugBank.d184.s0        2           525         536    val\n",
       "4    DDI-DrugBank.d78.s8       64            79          90  train"
      ]
     },
     "execution_count": 4,
     "metadata": {},
     "output_type": "execute_result"
    }
   ],
   "source": [
    "dataset.data_df.head()"
   ]
  },
  {
   "cell_type": "code",
   "execution_count": 5,
   "metadata": {
    "scrolled": true
   },
   "outputs": [
    {
     "data": {
      "text/html": [
       "<div>\n",
       "<style scoped>\n",
       "    .dataframe tbody tr th:only-of-type {\n",
       "        vertical-align: middle;\n",
       "    }\n",
       "\n",
       "    .dataframe tbody tr th {\n",
       "        vertical-align: top;\n",
       "    }\n",
       "\n",
       "    .dataframe thead th {\n",
       "        text-align: right;\n",
       "    }\n",
       "</style>\n",
       "<table border=\"1\" class=\"dataframe\">\n",
       "  <thead>\n",
       "    <tr style=\"text-align: right;\">\n",
       "      <th></th>\n",
       "      <th>sentence_id</th>\n",
       "      <th>ner_id</th>\n",
       "      <th>char_start_id</th>\n",
       "      <th>char_end_id</th>\n",
       "    </tr>\n",
       "  </thead>\n",
       "  <tbody>\n",
       "    <tr>\n",
       "      <th>0</th>\n",
       "      <td>DDI-DrugBank.d514.s2</td>\n",
       "      <td>3</td>\n",
       "      <td>170</td>\n",
       "      <td>175</td>\n",
       "    </tr>\n",
       "    <tr>\n",
       "      <th>1</th>\n",
       "      <td>DDI-DrugBank.d143.s18</td>\n",
       "      <td>1</td>\n",
       "      <td>66</td>\n",
       "      <td>71</td>\n",
       "    </tr>\n",
       "    <tr>\n",
       "      <th>2</th>\n",
       "      <td>DDI-DrugBank.d455.s4</td>\n",
       "      <td>1</td>\n",
       "      <td>109</td>\n",
       "      <td>116</td>\n",
       "    </tr>\n",
       "    <tr>\n",
       "      <th>3</th>\n",
       "      <td>DDI-MedLine.d111.s10</td>\n",
       "      <td>1</td>\n",
       "      <td>38</td>\n",
       "      <td>50</td>\n",
       "    </tr>\n",
       "    <tr>\n",
       "      <th>4</th>\n",
       "      <td>DDI-DrugBank.d456.s2</td>\n",
       "      <td>1</td>\n",
       "      <td>38</td>\n",
       "      <td>47</td>\n",
       "    </tr>\n",
       "  </tbody>\n",
       "</table>\n",
       "</div>"
      ],
      "text/plain": [
       "             sentence_id ner_id char_start_id char_end_id\n",
       "0   DDI-DrugBank.d514.s2      3           170         175\n",
       "1  DDI-DrugBank.d143.s18      1            66          71\n",
       "2   DDI-DrugBank.d455.s4      1           109         116\n",
       "3   DDI-MedLine.d111.s10      1            38          50\n",
       "4   DDI-DrugBank.d456.s2      1            38          47"
      ]
     },
     "execution_count": 5,
     "metadata": {},
     "output_type": "execute_result"
    }
   ],
   "source": [
    "dataset.ner_df.head()"
   ]
  },
  {
   "cell_type": "code",
   "execution_count": 6,
   "metadata": {
    "scrolled": true
   },
   "outputs": [
    {
     "data": {
      "text/plain": [
       "['cholestyramine',\n",
       " 'Rifampin',\n",
       " 'barbiturates',\n",
       " 'phenytoin',\n",
       " 'Dilantin',\n",
       " 'carbamazepine',\n",
       " 'Tegretol',\n",
       " 'Estrogens',\n",
       " 'benzodiazepines',\n",
       " 'lorezepam',\n",
       " 'oxezepam',\n",
       " 'temezepam',\n",
       " 'antibiotics',\n",
       " 'warfarin',\n",
       " 'Infergen']"
      ]
     },
     "execution_count": 6,
     "metadata": {},
     "output_type": "execute_result"
    }
   ],
   "source": [
    "dataset.vocab[:15]"
   ]
  },
  {
   "cell_type": "code",
   "execution_count": 7,
   "metadata": {
    "scrolled": true
   },
   "outputs": [
    {
     "data": {
      "text/plain": [
       "{1: 'drug', 2: 'group', 3: 'brand', 4: 'drug_n'}"
      ]
     },
     "execution_count": 7,
     "metadata": {},
     "output_type": "execute_result"
    }
   ],
   "source": [
    "dataset.id2ner"
   ]
  },
  {
   "cell_type": "code",
   "execution_count": 8,
   "metadata": {},
   "outputs": [
    {
     "data": {
      "text/plain": [
       "50"
      ]
     },
     "execution_count": 8,
     "metadata": {},
     "output_type": "execute_result"
    }
   ],
   "source": [
    "dataset.max_sample_length"
   ]
  },
  {
   "cell_type": "code",
   "execution_count": 9,
   "metadata": {
    "scrolled": true
   },
   "outputs": [
    {
     "name": "stderr",
     "output_type": "stream",
     "text": [
      "/home/guspfame@GU.GU.SE/ML/A1/lt2316-h20-aa/aa/data_loading.py:46: SettingWithCopyWarning: \n",
      "A value is trying to be set on a copy of a slice from a DataFrame.\n",
      "Try using .loc[row_indexer,col_indexer] = value instead\n",
      "\n",
      "See the caveats in the documentation: http://pandas.pydata.org/pandas-docs/stable/user_guide/indexing.html#returning-a-view-versus-a-copy\n",
      "  sample_tokens[\"token\"] = sample_tokens.loc[:,\"token_id\"].apply(decode_word)\n"
     ]
    },
    {
     "data": {
      "text/plain": [
       "'DRUG:methotrexate'"
      ]
     },
     "execution_count": 9,
     "metadata": {},
     "output_type": "execute_result"
    }
   ],
   "source": [
    "dataset.get_random_sample()"
   ]
  },
  {
   "cell_type": "markdown",
   "metadata": {},
   "source": [
    "### Data Exploration"
   ]
  },
  {
   "cell_type": "code",
   "execution_count": 10,
   "metadata": {},
   "outputs": [
    {
     "name": "stdout",
     "output_type": "stream",
     "text": [
      "[Counter({1: 7060, 2: 2573, 3: 1079, 4: 388}), Counter({1: 2342, 2: 844, 3: 349, 4: 115}), Counter({1: 328, 2: 131, 4: 89, 3: 52})]\n",
      "{1: 'drug', 2: 'group', 3: 'brand', 4: 'drug_n'}\n"
     ]
    },
    {
     "data": {
      "image/png": "[encoded data removed]",
      "text/plain": [
       "<Figure size 432x288 with 1 Axes>"
      ]
     },
     "metadata": {
      "needs_background": "light"
     },
     "output_type": "display_data"
    }
   ],
   "source": [
    "dataset.plot_split_ner_distribution()"
   ]
  },
  {
   "cell_type": "markdown",
   "metadata": {},
   "source": [
    "### Labels"
   ]
  },
  {
   "cell_type": "code",
   "execution_count": 11,
   "metadata": {
    "scrolled": true
   },
   "outputs": [],
   "source": [
    "train_y, val_y, test_y = check_output(dataset.get_y())"
   ]
  },
  {
   "cell_type": "markdown",
   "metadata": {},
   "source": [
    "## Extracting Features"
   ]
  },
  {
   "cell_type": "code",
   "execution_count": 12,
   "metadata": {},
   "outputs": [
    {
     "name": "stdout",
     "output_type": "stream",
     "text": [
      "      split word_len  several_words  capital\n",
      "1       val       14            0.0      0.0\n",
      "3       val       11            0.0      0.0\n",
      "8       val        8            0.0      0.0\n",
      "9       val        7            0.0      1.0\n",
      "17      val       12            0.0      1.0\n",
      "...     ...      ...            ...      ...\n",
      "15422   val        8            0.0      0.0\n",
      "15433   val       25            1.0      0.0\n",
      "15434   val        8            0.0      0.0\n",
      "15438   val        6            0.0      1.0\n",
      "15441   val        8            0.0      0.0\n",
      "\n",
      "[3700 rows x 4 columns]\n"
     ]
    }
   ],
   "source": [
    "extract_features(data=dataset.data_df, max_sample_length=dataset.max_sample_length, id2word=dataset.id2word)"
   ]
  },
  {
   "cell_type": "code",
   "execution_count": 13,
   "metadata": {},
   "outputs": [
    {
     "name": "stdout",
     "output_type": "stream",
     "text": [
      "      split word_len  several_words  capital\n",
      "1       val       14            0.0      0.0\n",
      "3       val       11            0.0      0.0\n",
      "8       val        8            0.0      0.0\n",
      "9       val        7            0.0      1.0\n",
      "17      val       12            0.0      1.0\n",
      "...     ...      ...            ...      ...\n",
      "15422   val        8            0.0      0.0\n",
      "15433   val       25            1.0      0.0\n",
      "15434   val        8            0.0      0.0\n",
      "15438   val        6            0.0      1.0\n",
      "15441   val        8            0.0      0.0\n",
      "\n",
      "[3700 rows x 4 columns]\n"
     ]
    },
    {
     "ename": "TypeError",
     "evalue": "'NoneType' object is not iterable",
     "output_type": "error",
     "traceback": [
      "\u001b[0;31m---------------------------------------------------------------------------\u001b[0m",
      "\u001b[0;31mTypeError\u001b[0m                                 Traceback (most recent call last)",
      "\u001b[0;32m<ipython-input-13-e349ea315aa7>\u001b[0m in \u001b[0;36m<module>\u001b[0;34m\u001b[0m\n\u001b[1;32m      2\u001b[0m                                                         \u001b[0mdata\u001b[0m\u001b[0;34m=\u001b[0m\u001b[0mdataset\u001b[0m\u001b[0;34m.\u001b[0m\u001b[0mdata_df\u001b[0m\u001b[0;34m,\u001b[0m\u001b[0;34m\u001b[0m\u001b[0;34m\u001b[0m\u001b[0m\n\u001b[1;32m      3\u001b[0m                                                         \u001b[0mmax_sample_length\u001b[0m\u001b[0;34m=\u001b[0m\u001b[0mdataset\u001b[0m\u001b[0;34m.\u001b[0m\u001b[0mmax_sample_length\u001b[0m\u001b[0;34m,\u001b[0m\u001b[0;34m\u001b[0m\u001b[0;34m\u001b[0m\u001b[0m\n\u001b[0;32m----> 4\u001b[0;31m                                                         \u001b[0mid2word\u001b[0m\u001b[0;34m=\u001b[0m\u001b[0mdataset\u001b[0m\u001b[0;34m.\u001b[0m\u001b[0mid2word\u001b[0m\u001b[0;34m\u001b[0m\u001b[0;34m\u001b[0m\u001b[0m\n\u001b[0m\u001b[1;32m      5\u001b[0m                                                         \u001b[0;31m#Add any addtional arguments here\u001b[0m\u001b[0;34m\u001b[0m\u001b[0;34m\u001b[0m\u001b[0;34m\u001b[0m\u001b[0m\n\u001b[1;32m      6\u001b[0m                                                        ))\n",
      "\u001b[0;32m~/ML/A1/lt2316-h20-aa/aa/utils.py\u001b[0m in \u001b[0;36mcheck_output\u001b[0;34m(items_to_check)\u001b[0m\n\u001b[1;32m     16\u001b[0m \u001b[0;32mdef\u001b[0m \u001b[0mcheck_output\u001b[0m\u001b[0;34m(\u001b[0m\u001b[0mitems_to_check\u001b[0m\u001b[0;34m)\u001b[0m\u001b[0;34m:\u001b[0m\u001b[0;34m\u001b[0m\u001b[0;34m\u001b[0m\u001b[0m\n\u001b[1;32m     17\u001b[0m \u001b[0;34m\u001b[0m\u001b[0m\n\u001b[0;32m---> 18\u001b[0;31m     \u001b[0;32mfor\u001b[0m \u001b[0mitem\u001b[0m \u001b[0;32min\u001b[0m \u001b[0mitems_to_check\u001b[0m\u001b[0;34m:\u001b[0m\u001b[0;34m\u001b[0m\u001b[0;34m\u001b[0m\u001b[0m\n\u001b[0m\u001b[1;32m     19\u001b[0m         \u001b[0mensure_tensor\u001b[0m\u001b[0;34m(\u001b[0m\u001b[0mitem\u001b[0m\u001b[0;34m)\u001b[0m\u001b[0;34m\u001b[0m\u001b[0;34m\u001b[0m\u001b[0m\n\u001b[1;32m     20\u001b[0m         \u001b[0mensure_gpu\u001b[0m\u001b[0;34m(\u001b[0m\u001b[0mitem\u001b[0m\u001b[0;34m)\u001b[0m\u001b[0;34m\u001b[0m\u001b[0;34m\u001b[0m\u001b[0m\n",
      "\u001b[0;31mTypeError\u001b[0m: 'NoneType' object is not iterable"
     ]
    }
   ],
   "source": [
    "train_X, val_X, test_X = check_output(extract_features(\n",
    "                                                        data=dataset.data_df,\n",
    "                                                        max_sample_length=dataset.max_sample_length,\n",
    "                                                        id2word=dataset.id2word\n",
    "                                                        #Add any addtional arguments here\n",
    "                                                       ))"
   ]
  },
  {
   "cell_type": "markdown",
   "metadata": {},
   "source": [
    "## Bonus Part: Explore Some more"
   ]
  },
  {
   "cell_type": "code",
   "execution_count": null,
   "metadata": {},
   "outputs": [],
   "source": [
    "#uncomment the code below if you want to do bonus part"
   ]
  },
  {
   "cell_type": "code",
   "execution_count": null,
   "metadata": {},
   "outputs": [],
   "source": [
    "#dataset.plot_ner_per_sample_distribution()"
   ]
  },
  {
   "cell_type": "code",
   "execution_count": null,
   "metadata": {},
   "outputs": [],
   "source": [
    "#dataset.plot_sample_length_distribution()"
   ]
  },
  {
   "cell_type": "code",
   "execution_count": null,
   "metadata": {},
   "outputs": [],
   "source": [
    "#dataset.plot_ner_cooccurence_venndiagram()"
   ]
  }
 ],
 "metadata": {
  "kernelspec": {
   "display_name": "Python 3",
   "language": "python",
   "name": "python3"
  },
  "language_info": {
   "codemirror_mode": {
    "name": "ipython",
    "version": 3
   },
   "file_extension": ".py",
   "mimetype": "text/x-python",
   "name": "python",
   "nbconvert_exporter": "python",
   "pygments_lexer": "ipython3",
   "version": "3.7.4"
  }
 },
 "nbformat": 4,
 "nbformat_minor": 4
}
